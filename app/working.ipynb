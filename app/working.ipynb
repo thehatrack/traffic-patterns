{
 "cells": [
  {
   "cell_type": "raw",
   "id": "61606095-675b-4a13-bbd0-d5f87798bbba",
   "metadata": {},
   "source": [
    "Data Set:\n",
    "https://databank.illinois.edu/datasets/IDB-3671567\n",
    "\n",
    "Paper:\n",
    "https://papers.nips.cc/paper/2019/file/ee389847678a3a9d1ce9e4ca69200d06-Paper.pdf\n",
    "\n",
    "GitHub:\n",
    "https://github.com/corey-snyder/STREETS"
   ]
  },
  {
   "cell_type": "code",
   "execution_count": 1,
   "id": "3ffb68fe-3760-49ff-ad57-91c70ca38aa8",
   "metadata": {},
   "outputs": [
    {
     "ename": "ModuleNotFoundError",
     "evalue": "No module named 'PIL'",
     "output_type": "error",
     "traceback": [
      "\u001b[0;31m---------------------------------------------------------------------------\u001b[0m",
      "\u001b[0;31mModuleNotFoundError\u001b[0m                       Traceback (most recent call last)",
      "\u001b[0;32m<ipython-input-1-b65fe711dd13>\u001b[0m in \u001b[0;36m<module>\u001b[0;34m\u001b[0m\n\u001b[1;32m      7\u001b[0m \u001b[0;32mimport\u001b[0m \u001b[0mnumpy\u001b[0m \u001b[0;32mas\u001b[0m \u001b[0mnp\u001b[0m\u001b[0;34m\u001b[0m\u001b[0;34m\u001b[0m\u001b[0m\n\u001b[1;32m      8\u001b[0m \u001b[0;34m\u001b[0m\u001b[0m\n\u001b[0;32m----> 9\u001b[0;31m \u001b[0;32mfrom\u001b[0m \u001b[0mImageHelpers\u001b[0m \u001b[0;32mimport\u001b[0m \u001b[0mbgr2png\u001b[0m\u001b[0;34m\u001b[0m\u001b[0;34m\u001b[0m\u001b[0m\n\u001b[0m\u001b[1;32m     10\u001b[0m \u001b[0;32mfrom\u001b[0m \u001b[0mVideoStreams\u001b[0m \u001b[0;32mimport\u001b[0m \u001b[0mstream_factory\u001b[0m\u001b[0;34m\u001b[0m\u001b[0;34m\u001b[0m\u001b[0m\n",
      "\u001b[0;32m~/traffic-patterns/app/ImageHelpers.py\u001b[0m in \u001b[0;36m<module>\u001b[0;34m\u001b[0m\n\u001b[1;32m      2\u001b[0m \u001b[0;34m\u001b[0m\u001b[0m\n\u001b[1;32m      3\u001b[0m \u001b[0;32mimport\u001b[0m \u001b[0mcv2\u001b[0m\u001b[0;34m\u001b[0m\u001b[0;34m\u001b[0m\u001b[0m\n\u001b[0;32m----> 4\u001b[0;31m \u001b[0;32mfrom\u001b[0m \u001b[0mPIL\u001b[0m \u001b[0;32mimport\u001b[0m \u001b[0mImage\u001b[0m\u001b[0;34m\u001b[0m\u001b[0;34m\u001b[0m\u001b[0m\n\u001b[0m\u001b[1;32m      5\u001b[0m \u001b[0;34m\u001b[0m\u001b[0m\n\u001b[1;32m      6\u001b[0m \u001b[0;32mdef\u001b[0m \u001b[0mbgr2png\u001b[0m\u001b[0;34m(\u001b[0m\u001b[0mbgr\u001b[0m\u001b[0;34m)\u001b[0m\u001b[0;34m:\u001b[0m\u001b[0;34m\u001b[0m\u001b[0;34m\u001b[0m\u001b[0m\n",
      "\u001b[0;31mModuleNotFoundError\u001b[0m: No module named 'PIL'"
     ]
    }
   ],
   "source": [
    "import sys\n",
    "import time\n",
    "\n",
    "import cv2\n",
    "import dlib\n",
    "from IPython.display import Image\n",
    "import numpy as np\n",
    "\n",
    "from ImageHelpers import bgr2png\n",
    "from VideoStreams import stream_factory"
   ]
  },
  {
   "cell_type": "code",
   "execution_count": null,
   "id": "f24d2728-da11-4202-816b-36d7418ce0ea",
   "metadata": {},
   "outputs": [],
   "source": [
    "STREAM_URL = 'http://192.168.8.219:8080/'\n",
    "CLASSES = [\"background\",\n",
    "           \"aeroplane\",\n",
    "           \"bicycle\",\n",
    "           \"bird\",\n",
    "           \"boat\",\n",
    "           \"bottle\",\n",
    "           \"bus\",\n",
    "           \"car\",\n",
    "           \"cat\",\n",
    "           \"chair\",\n",
    "           \"cow\",\n",
    "           \"diningtable\",\n",
    "           \"dog\",\n",
    "           \"horse\",\n",
    "           \"motorbike\",\n",
    "           \"person\",\n",
    "           \"pottedpolant\",\n",
    "           \"sheep\",\n",
    "           \"sofa\",\n",
    "           \"train\",\n",
    "           \"tvmonitor\"]\n",
    "SEEKING = [\"car\", \"motorbike\"]\n",
    "PROTOTEXT = \"mobilenet_ssd/MobileNetSSD_deploy.prototxt\"\n",
    "MODEL = \"mobilenet_ssd/MobileNetSSD_deploy.caffemodel\"\n",
    "MIN_CONFIDENCE = 0.5"
   ]
  },
  {
   "cell_type": "code",
   "execution_count": null,
   "id": "bfeb44cc-7814-49a5-8247-1677d84b4262",
   "metadata": {},
   "outputs": [],
   "source": [
    "# initializing pipeline components\n",
    "stream = stream_factory(STREAM_URL)\n",
    "model = cv2.dnn.readNetFromCaffe(PROTOTEXT, MODEL)\n",
    "trackers = []"
   ]
  },
  {
   "cell_type": "code",
   "execution_count": null,
   "id": "6da17f54-5c7b-4b27-a580-560416e085b2",
   "metadata": {},
   "outputs": [],
   "source": [
    "# process each frame\n",
    "for (timestamp, frame) in stream:\n",
    "    if frame is None:\n",
    "        continue\n",
    "\n",
    "    sys.stdout.write('Run inference on frame... ')\n",
    "    start = time.time()\n",
    "    rgb = cv2.cvtColor(frame, cv2.COLOR_BGR2RGB)\n",
    "    (img_height, img_width) = frame.shape[:2]\n",
    "    blob = cv2.dnn.blobFromImage(frame, 0.007843, (img_width, img_height), 127.5)\n",
    "    model.setInput(blob)\n",
    "    detections = model.forward()\n",
    "    stop = time.time()\n",
    "    sys.stdout.write(f'Done { stop - start }')\n",
    "    \n",
    "    break"
   ]
  },
  {
   "cell_type": "code",
   "execution_count": null,
   "id": "ccb23b86-978a-4268-8e2d-3cc40a3609db",
   "metadata": {},
   "outputs": [],
   "source": [
    "for i in np.arange(0, detections.shape[2]):\n",
    "    confidence = detections[0, 0, i, 2]\n",
    "    label = CLASSES[int(detections[0, 0, i, 1])]\n",
    "    if confidence < MIN_CONFIDENCE:\n",
    "        continue\n",
    "    if label not in SEEKING:\n",
    "        continue\n",
    "        \n",
    "    box = detections[0, 0, i, 3:7] * \\\n",
    "        np.array([img_width, img_height, img_width, img_height])\n",
    "    box = box.astype(\"int\")\n",
    "\n",
    "    tracker = dlib.correlation_tracker()\n",
    "    rect = dlib.rectangle(*box)\n",
    "    tracker.start_track(rgb, rect)\n",
    "    trackers.append(tracker)\n",
    "\n",
    "    cv2.rectangle(frame, (box[0], box[1]), (box[2], box[3]), (0, 255, 0), 2)\n",
    "    cv2.putText(frame, label, (box[0], box[1] - 15),\n",
    "        cv2.FONT_HERSHEY_SIMPLEX, 0.45, (0, 255, 0), 2)"
   ]
  },
  {
   "cell_type": "code",
   "execution_count": null,
   "id": "9d3ee3d6-ba15-40b6-b4de-1356cd9c1d2e",
   "metadata": {},
   "outputs": [],
   "source": [
    "Image(data=bgr2png(frame)) "
   ]
  },
  {
   "cell_type": "code",
   "execution_count": null,
   "id": "5f80bcec-a57e-410c-a8af-681f28a626aa",
   "metadata": {},
   "outputs": [],
   "source": []
  }
 ],
 "metadata": {
  "kernelspec": {
   "display_name": "Python 3",
   "language": "python",
   "name": "python3"
  },
  "language_info": {
   "codemirror_mode": {
    "name": "ipython",
    "version": 3
   },
   "file_extension": ".py",
   "mimetype": "text/x-python",
   "name": "python",
   "nbconvert_exporter": "python",
   "pygments_lexer": "ipython3",
   "version": "3.8.6"
  }
 },
 "nbformat": 4,
 "nbformat_minor": 5
}

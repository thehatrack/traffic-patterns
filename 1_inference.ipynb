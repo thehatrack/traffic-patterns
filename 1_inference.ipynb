{
 "cells": [
  {
   "cell_type": "raw",
   "id": "61606095-675b-4a13-bbd0-d5f87798bbba",
   "metadata": {},
   "source": [
    "Data Set:\n",
    "https://databank.illinois.edu/datasets/IDB-3671567\n",
    "\n",
    "Paper:\n",
    "https://papers.nips.cc/paper/2019/file/ee389847678a3a9d1ce9e4ca69200d06-Paper.pdf\n",
    "\n",
    "GitHub:\n",
    "https://github.com/corey-snyder/STREETS"
   ]
  },
  {
   "cell_type": "code",
   "execution_count": 6,
   "id": "3ffb68fe-3760-49ff-ad57-91c70ca38aa8",
   "metadata": {},
   "outputs": [
    {
     "ename": "ModuleNotFoundError",
     "evalue": "No module named 'dlib'",
     "output_type": "error",
     "traceback": [
      "\u001b[0;31m---------------------------------------------------------------------------\u001b[0m",
      "\u001b[0;31mModuleNotFoundError\u001b[0m                       Traceback (most recent call last)",
      "\u001b[0;32m/tmp/ipykernel_30916/2835971613.py\u001b[0m in \u001b[0;36m<module>\u001b[0;34m\u001b[0m\n\u001b[1;32m      3\u001b[0m \u001b[0;32mimport\u001b[0m \u001b[0mtime\u001b[0m\u001b[0;34m\u001b[0m\u001b[0;34m\u001b[0m\u001b[0m\n\u001b[1;32m      4\u001b[0m \u001b[0;34m\u001b[0m\u001b[0m\n\u001b[0;32m----> 5\u001b[0;31m \u001b[0;32mimport\u001b[0m \u001b[0mdlib\u001b[0m\u001b[0;34m\u001b[0m\u001b[0;34m\u001b[0m\u001b[0m\n\u001b[0m\u001b[1;32m      6\u001b[0m \u001b[0;32mimport\u001b[0m \u001b[0mboto3\u001b[0m\u001b[0;34m\u001b[0m\u001b[0;34m\u001b[0m\u001b[0m\n\u001b[1;32m      7\u001b[0m \u001b[0;32mimport\u001b[0m \u001b[0mcv2\u001b[0m\u001b[0;34m\u001b[0m\u001b[0;34m\u001b[0m\u001b[0m\n",
      "\u001b[0;31mModuleNotFoundError\u001b[0m: No module named 'dlib'"
     ]
    }
   ],
   "source": [
    "import os\n",
    "import sys\n",
    "import time\n",
    "\n",
    "import dlib\n",
    "import boto3\n",
    "import cv2\n",
    "from IPython.display import Image\n",
    "import numpy as np\n",
    "\n",
    "from app import utils\n",
    "from app.image_helpers import bgr2png\n",
    "from app.video_streams import stream_factory\n",
    "from app.yolo_model import YOLOv5Model\n",
    "\n",
    "import requests\n",
    "requests.packages.urllib3.disable_warnings() "
   ]
  },
  {
   "cell_type": "code",
   "execution_count": 2,
   "id": "c3f521b0-fd8b-4e6f-a0f7-de164940cebf",
   "metadata": {},
   "outputs": [],
   "source": [
    "STREAM_URL = 'http://192.168.8.219:8080/'\n",
    "WEIGHTS = '20210916-184902-kube%3Aadmin-weights.pt'\n",
    "COMPUTE_DEVICE = 'cuda:0'  # cpu or cuda:x"
   ]
  },
  {
   "cell_type": "code",
   "execution_count": 3,
   "id": "bfeb44cc-7814-49a5-8247-1677d84b4262",
   "metadata": {},
   "outputs": [],
   "source": [
    "# initialize video stream\n",
    "stream = stream_factory(STREAM_URL)\n",
    "# initialize detection model\n",
    "s3_client = boto3.client('s3', endpoint_url='https://' + os.environ.get('S3_ENDPOINT_URL'), verify=False)\n",
    "model = YOLOv5Model(class_map=['car'], conf_thresh=0.3, device=COMPUTE_DEVICE)\n",
    "model.from_s3(s3_client, os.environ.get('S3_BUCKET_NAME'), WEIGHTS)\n",
    "model.imgsz = 416\n",
    "# initialize centroid trackers\n",
    "trackers = []"
   ]
  },
  {
   "cell_type": "code",
   "execution_count": 4,
   "id": "6da17f54-5c7b-4b27-a580-560416e085b2",
   "metadata": {},
   "outputs": [
    {
     "name": "stdout",
     "output_type": "stream",
     "text": [
      "Starting Run inference on frame... ... done [0.028236 seconds]\n"
     ]
    }
   ],
   "source": [
    "# process each frame\n",
    "for (timestamp, frame) in stream:\n",
    "    if frame is None:\n",
    "        continue\n",
    "    \n",
    "    with utils.BlockTimer('Run inference on frame... ') as t:\n",
    "        detections = model(frame)\n",
    "    \n",
    "    break"
   ]
  },
  {
   "cell_type": "code",
   "execution_count": 5,
   "id": "d7a0678a-c7ca-4692-89df-38e1088d04a7",
   "metadata": {},
   "outputs": [
    {
     "data": {
      "text/plain": [
       "[{'box': [130.0, 112.0, 152.0, 128.0],\n",
       "  'confidence': 0.7574032545089722,\n",
       "  'class': 'car'},\n",
       " {'box': [160.0, 105.0, 178.0, 117.0],\n",
       "  'confidence': 0.6601072549819946,\n",
       "  'class': 'car'},\n",
       " {'box': [267.0, 81.0, 273.0, 87.0],\n",
       "  'confidence': 0.6427752375602722,\n",
       "  'class': 'car'},\n",
       " {'box': [180.0, 97.0, 194.0, 109.0],\n",
       "  'confidence': 0.6031914353370667,\n",
       "  'class': 'car'},\n",
       " {'box': [201.0, 83.0, 211.0, 91.0],\n",
       "  'confidence': 0.5668219327926636,\n",
       "  'class': 'car'},\n",
       " {'box': [212.0, 88.0, 223.0, 97.0],\n",
       "  'confidence': 0.496455579996109,\n",
       "  'class': 'car'},\n",
       " {'box': [190.0, 95.0, 205.0, 106.0],\n",
       "  'confidence': 0.3665356934070587,\n",
       "  'class': 'car'},\n",
       " {'box': [205.0, 90.0, 216.0, 98.0],\n",
       "  'confidence': 0.3629326820373535,\n",
       "  'class': 'car'}]"
      ]
     },
     "execution_count": 5,
     "metadata": {},
     "output_type": "execute_result"
    }
   ],
   "source": [
    "detections"
   ]
  },
  {
   "cell_type": "code",
   "execution_count": null,
   "id": "ccb23b86-978a-4268-8e2d-3cc40a3609db",
   "metadata": {},
   "outputs": [],
   "source": [
    "for detection in detections:\n",
    "    confidence = detection['confidence']\n",
    "    label = detection['class']\n",
    "    box = detections['box']\n",
    "\n",
    "    tracker = dlib.correlationable, it will be called once for each serialized storage with two arguments: storage and location. The storage argument will be the initial deserialization of the stor_tracker()\n",
    "    rect = dlib.rectangle(*box)\n",
    "    tracker.start_track(rgb, rect)\n",
    "    trackers.append(tracker)\n",
    "\n",
    "    cv2.rectangle(frame, (box[0], box[1]), (box[2], box[3]), (0, 255, 0), 2)\n",
    "    cv2.putText(frame, label, (box[0], box[1] - 15),\n",
    "        cv2.FONT_HERSHEY_SIMPLEX, 0.45, (0, 255, 0), 2)"
   ]
  },
  {
   "cell_type": "code",
   "execution_count": null,
   "id": "9d3ee3d6-ba15-40b6-b4de-1356cd9c1d2e",
   "metadata": {},
   "outputs": [],
   "source": [
    "Image(data=bgr2png(frame)) "
   ]
  },
  {
   "cell_type": "code",
   "execution_count": null,
   "id": "5f80bcec-a57e-410c-a8af-681f28a626aa",
   "metadata": {},
   "outputs": [],
   "source": []
  }
 ],
 "metadata": {
  "kernelspec": {
   "display_name": "Python 3 (ipykernel)",
   "language": "python",
   "name": "python3"
  },
  "language_info": {
   "codemirror_mode": {
    "name": "ipython",
    "version": 3
   },
   "file_extension": ".py",
   "mimetype": "text/x-python",
   "name": "python",
   "nbconvert_exporter": "python",
   "pygments_lexer": "ipython3",
   "version": "3.8.6"
  }
 },
 "nbformat": 4,
 "nbformat_minor": 5
}
